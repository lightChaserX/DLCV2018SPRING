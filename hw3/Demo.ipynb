{
 "cells": [
  {
   "cell_type": "code",
   "execution_count": 1,
   "metadata": {},
   "outputs": [],
   "source": [
    "import torch\n",
    "import torch.nn as nn\n",
    "import torch.nn.functional as F\n",
    "import torch.utils.data as UtiData\n",
    "import torch.optim as optim\n",
    "from torch.autograd import Variable\n",
    "import torchvision\n",
    "import torchvision.datasets as dsets\n",
    "import torchvision.transforms as transforms\n",
    "import cv2\n",
    "import numpy as np\n",
    "\n",
    "import os, csv, argparse\n",
    "import pandas as pd\n",
    "import matplotlib\n",
    "import matplotlib.pyplot as plt\n",
    "\n",
    "from fcn32s import VGG16_FCN32s\n",
    "from utils import *\n",
    "from mean_iou_evaluate import *\n",
    "from dataset import *\n",
    "from criterion import *"
   ]
  },
  {
   "cell_type": "code",
   "execution_count": null,
   "metadata": {},
   "outputs": [],
   "source": [
    "VGG16_net = torchvision.models.vgg16(pretrained=True).cuda()"
   ]
  },
  {
   "cell_type": "code",
   "execution_count": null,
   "metadata": {},
   "outputs": [
    {
     "name": "stderr",
     "output_type": "stream",
     "text": [
      "/home/pixiym/DLCV/hw3/criterion.py:11: UserWarning: Implicit dimension choice for log_softmax has been deprecated. Change the call to include dim=X as an argument.\n",
      "  return self.nll_loss(F.log_softmax(inputs), targets)\n"
     ]
    },
    {
     "name": "stdout",
     "output_type": "stream",
     "text": [
      "1.6182069259804566\n",
      "1.4610129593254684\n",
      "1.128974515896339\n",
      "1.0895059977258954\n",
      "1.118976782978355\n",
      "1.1571483493625343\n",
      "1.2911657885297552\n",
      "1.344711133953813\n",
      "1.4271697895867483\n"
     ]
    }
   ],
   "source": [
    "n_class = 7\n",
    "batch_size = 6\n",
    "MAX_EPOCHS = 20\n",
    "cuda_device = 0\n",
    "\n",
    "net = VGG16_FCN32s(n_class).cuda()\n",
    "net.copy_vgg16(VGG16_net)\n",
    "del VGG16_net\n",
    "#net = torch.nn.DataParallel(net).cuda()\n",
    "\n",
    "filepath = 'dataset/train'\n",
    "train_loader = get_data_loader(filepath, batch_size)\n",
    "\n",
    "criterion = CrossEntropyLoss2d().cuda()\n",
    "optimizer = torch.optim.Adam(net.parameters(), lr=5e-4)\n",
    "\n",
    "for ep in range(0, MAX_EPOCHS):\n",
    "    epoch_loss = 0\n",
    "    for it, (images, labels) in enumerate(train_loader):\n",
    "        assert images.size(0) == labels.size(0)\n",
    "        images = Variable(images.cuda()).cuda()\n",
    "        labels = Variable(labels.cuda()).cuda()\n",
    "        output = net(images)\n",
    "        loss = criterion(output, labels)\n",
    "        loss.backward()\n",
    "        optimizer.step()\n",
    "        \n",
    "        #print('epoch: {}, it: {}, loss: {}'.format(ep, it, loss.data[0]))\n",
    "        epoch_loss += loss.data[0]\n",
    "    print(epoch_loss/it)"
   ]
  },
  {
   "cell_type": "code",
   "execution_count": null,
   "metadata": {},
   "outputs": [],
   "source": []
  },
  {
   "cell_type": "code",
   "execution_count": null,
   "metadata": {},
   "outputs": [],
   "source": []
  }
 ],
 "metadata": {
  "kernelspec": {
   "display_name": "Python 3",
   "language": "python",
   "name": "python3"
  },
  "language_info": {
   "codemirror_mode": {
    "name": "ipython",
    "version": 3
   },
   "file_extension": ".py",
   "mimetype": "text/x-python",
   "name": "python",
   "nbconvert_exporter": "python",
   "pygments_lexer": "ipython3",
   "version": "3.6.4"
  }
 },
 "nbformat": 4,
 "nbformat_minor": 2
}
